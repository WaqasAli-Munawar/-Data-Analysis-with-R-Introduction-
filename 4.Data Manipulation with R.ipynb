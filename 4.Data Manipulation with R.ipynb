{
 "cells": [
  {
   "cell_type": "markdown",
   "metadata": {},
   "source": [
    "R provides an impressive toolset to support the data analysis workflow. These tools are typically functions grouped in packages. They are all part of the **tidyverse** collection of packages."
   ]
  },
  {
   "cell_type": "markdown",
   "metadata": {},
   "source": [
    "To install an R package, we use the function `install.packages()`.\n",
    "\n",
    "`install.packages(\"readr\")`"
   ]
  },
  {
   "cell_type": "markdown",
   "metadata": {},
   "source": [
    "This function installs our desired packages from the [Comprehensive R Archive Network (CRAN) repository](https://cran.r-project.org/). Note that we need to wrap the package name in quotation marks like character literals.We only need to install a package once.\n",
    "\n",
    "However, We need to load packages we want to work with when beginning a new session. To load packages, we use the function `library()`:\n",
    "\n",
    "`library(readr)`\n",
    "\n",
    "We do not need to surround package names with quotation marks to load them using the `library()` function."
   ]
  },
  {
   "cell_type": "markdown",
   "metadata": {},
   "source": [
    "In this file, the question we will answer is: **Since there are many data science job offers published daily, which ones can we focus on? How to filter the desirable ones?**.\n",
    "\n",
    "To answer this question, we found a dataset representing one day of publication on [Monster website](https://www.monster.com/jobs) in The United States.\n",
    "\n",
    "We extracted from this dataset, all calls that require data science and related skills."
   ]
  },
  {
   "attachments": {
    "image.png": {
     "image/png": "[encoded data removed]"
    }
   },
   "cell_type": "markdown",
   "metadata": {},
   "source": [
    "This dataset contains 86 rows and eight columns.\n",
    "\n",
    "![image.png](attachment:image.png)"
   ]
  },
  {
   "cell_type": "markdown",
   "metadata": {},
   "source": [
    "The columns `job_id`, `salary_min`, and `salary_max` are of **Numeric** data type, and the rest of the columns are of **Character** data type."
   ]
  },
  {
   "cell_type": "markdown",
   "metadata": {},
   "source": [
    "The readr package is part of the tidyverse collection of packages. It is used to import a dataset in R. \n",
    "\n",
    "The readr package contains a function, `read_csv()`, that's specifically for importing data in CSV format into R.\n",
    "\n",
    "When we use the `read_csv()` function, R returns a dataframe containing our dataset by guessing the data types of each column. A message is thereby displayed at the end of the process (as a warning) to let us know the data type chosen for each column. This message is not an error. It is worth reading this message to learn about the columns in the dataframe making sure that each column has the right type."
   ]
  },
  {
   "cell_type": "markdown",
   "metadata": {},
   "source": [
    "**Task**\n",
    "\n",
    "* Use the `read_csv()` function to import the file `monster_jobs_clean.csv` into R.\n",
    "\n",
    "**Answer**\n",
    "\n",
    "`monster_jobs_clean <- read_csv(\"monster_jobs_clean.csv\")`"
   ]
  },
  {
   "cell_type": "markdown",
   "metadata": {},
   "source": [
    "In R, there is a function to perform each of these operations:\n",
    "\n",
    "* To determine the number of rows, we use the `nrow()` function, which returns an integer number.\n",
    "* To determine the number of columns, we use the `ncol()` function, which returns an integer number.\n",
    "* To determine the column names, we use the `colnames()` function, which returns the names of the columns.\n",
    "\n",
    "We use all these functions in the same way by providing the dataframe name as parameter to them. We can eventually store the outputs in variables."
   ]
  },
  {
   "cell_type": "markdown",
   "metadata": {},
   "source": [
    "`n_cols_clean <- ncol(monster_jobs_clean)\n",
    "n_rows_clean <- nrow(monster_jobs_clean)\n",
    "names_clean <- colnames(monster_jobs_clean)`"
   ]
  },
  {
   "cell_type": "markdown",
   "metadata": {},
   "source": [
    "We can explore data by viewing the first six lines of the dataframe as a table using the `head()` function.\n",
    "\n",
    "`monster_jobs_clean_head <- head(monster_jobs_clean)`"
   ]
  },
  {
   "cell_type": "markdown",
   "metadata": {},
   "source": [
    "Similar to the function `head()`, we can use the function `tail()` to look at the last lines of a dataset."
   ]
  },
  {
   "cell_type": "markdown",
   "metadata": {},
   "source": [
    "We started by exploring our dataset by looking at the first and last lines of our dataset. This only gives us a partial view of our dataset. We can also visualize our dataset to have a global view and thus being able to answer our question.\n",
    "\n",
    "To visualize our dataset we'll be using a function from the `ggplot2` package. Hence, we need to load it first.\n",
    "\n",
    "`library(ggplot2)`"
   ]
  },
  {
   "cell_type": "markdown",
   "metadata": {},
   "source": [
    "The `qplot()` function of `ggplot2` package allows representing graphs quickly. Basically, this function receives as parameters:\n",
    "\n",
    "* The dataset column representing the x-axis (thanks to the parameter `x`).\n",
    "* The dataset column representing the y-axis (thanks to the parameter `y`).\n",
    "* The dataset itself (thanks to the parameter `data`)."
   ]
  },
  {
   "cell_type": "markdown",
   "metadata": {},
   "source": [
    "**Task**\n",
    "\n",
    "* Visualizing the maximum salary (`salary_max`) for all the job posts using the `qplot()` function.\n",
    "\n",
    "**Answer**\n",
    "\n",
    "`library(ggplot2)`\n",
    "\n",
    "`salary_max_viz <- qplot(x = job_id,\n",
    "      y = salary_max,\n",
    "      data = monster_jobs_clean)`\n",
    "\n",
    "`salary_max_viz`"
   ]
  },
  {
   "cell_type": "markdown",
   "metadata": {},
   "source": [
    "let's differentiate these salaries by type of job. To do this we will use colors. To do so, we'll use the same function, `qplot()`, to add the color parameter for specifying how R should color our scatterplot.\n",
    "\n",
    "The result is a scatterplot where a dot represents the maximum salary of a given job identifier with a color for each type of job."
   ]
  },
  {
   "cell_type": "markdown",
   "metadata": {},
   "source": [
    "`salary_max_with_color_viz <- qplot(x = job_id,\n",
    "      y = salary_max,\n",
    "      color = job_type,\n",
    "      data = monster_jobs_clean)`\n",
    "\n",
    "`salary_max_with_color_viz`"
   ]
  },
  {
   "cell_type": "code",
   "execution_count": null,
   "metadata": {},
   "outputs": [],
   "source": []
  }
 ],
 "metadata": {
  "kernelspec": {
   "display_name": "Python 3",
   "language": "python",
   "name": "python3"
  },
  "language_info": {
   "codemirror_mode": {
    "name": "ipython",
    "version": 3
   },
   "file_extension": ".py",
   "mimetype": "text/x-python",
   "name": "python",
   "nbconvert_exporter": "python",
   "pygments_lexer": "ipython3",
   "version": "3.7.6"
  }
 },
 "nbformat": 4,
 "nbformat_minor": 4
}
